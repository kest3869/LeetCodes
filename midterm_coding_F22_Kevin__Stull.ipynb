{
  "cells": [
    {
      "cell_type": "markdown",
      "metadata": {
        "id": "view-in-github",
        "colab_type": "text"
      },
      "source": [
        "<a href=\"https://colab.research.google.com/github/kest3869/LeetCodes/blob/main/midterm_coding_F22_Kevin__Stull.ipynb\" target=\"_parent\"><img src=\"https://colab.research.google.com/assets/colab-badge.svg\" alt=\"Open In Colab\"/></a>"
      ]
    },
    {
      "cell_type": "markdown",
      "metadata": {
        "id": "l1AiE1sMrmtM"
      },
      "source": [
        "# Midterm Exam\n",
        "***\n",
        "\n",
        "\n",
        "**DUE DATE and SUBMISSION INSTRUCTIONS:**\n",
        "\n",
        "This exam is due on Gradescope AND Canvas by **5:59PM on Friday October 21**. \n",
        "\n",
        "- Upload a PDF of this notebook (with all cells run and all LaTex fully rendered) to Gradescope by **5:59PM on Friday October 21**. \n",
        "\n",
        "- AND upload this Jupyter notebook to Canvas by **5:59PM on Friday October 21**.  \n",
        "\n",
        "Late Submittals:  If your exam comes in between 6:00PM and 6:30PM on Friday Oct 21st (regardless of reason/cause etc), then it will be **deducted 50 points**. **No exams will be accepted after 6:30 PM** on Friday October 21.\n",
        "\n",
        "\n",
        "**FORMAT:** \n",
        "\n",
        "- Your solutions to theoretical questions should be done in Markdown and LaTex directly below the associated question. \n",
        "\n",
        "- Your solutions to computational questions should include any specified Python code and results as well as written commentary on your conclusions.\n",
        "\n",
        "**HERE ARE THE RULES:** \n",
        "\n",
        "1. All work, code and analysis, must be your own. \n",
        "1. Only work uploaded prior to the deadline will be considered.\n",
        "1. You MAY use your course notes, posted lecture slides, textbooks, in-class notebooks, and homework solutions as resources.  You may also search online for answers to general knowledge questions like the form of a probability distribution function or how to perform a particular operation in Python/Pandas. \n",
        "3. You may **NOT** copy-paste solutions *from anywhere*.\n",
        "2. You may **NOT** post to message boards or other online resources asking for help.\n",
        "4. You may **NOT** collaborate with classmates or anyone else.\n",
        "5. In short, **your work must be your own**. It really is that simple.\n",
        "1. This is meant to be like a coding portion of your midterm exam. So, the instructional team will be much less helpful than we typically are with homework. For example, we will not check answers, help debug your code, and so on.\n",
        "1. If something is left open-ended, it is because we want to see how you approach the kinds of problems you will encounter in the wild, where it will not always be clear what sort of tests/methods should be applied. Feel free to ask clarifying questions though.\n",
        "2. Please stick to software used/taught in this class: Pandas, NumPy, Python 3.9, etc.\n",
        "\n",
        "Violation of the above rules will result in an immediate academic sanction (you will receive an F in the course), and a trip to the Honor Code Council.\n",
        "\n",
        "**By submitting this assignment, you agree to abide by the rules given above.**\n",
        "\n",
        "***\n",
        "\n",
        "**Name**: Kevin Stull\n",
        "\n",
        "***\n",
        "\n",
        "\n",
        "**NOTES**: \n",
        "\n",
        "- By the due date, turn in anything you have, there are no extensions, and some credit is better than no credit.  **DO NOT attempt your first upload at 5:00 PM** as you may encounter slow internet speeds or outages and again you will miss the upload and hence the entire exam. \n",
        "- If you have a question for us, post it as a **PRIVATE** message on Piazza.  If we decide that the question is appropriate for the entire class, then we will add it to a  midterm clarifications thread. \n",
        "- Do **NOT** load or use any Python packages that are not available in Anaconda 3.9.  \n",
        "- This should go without saying, but... For any question that asks you to calculate something, you **must show all work to receive credit**. Sparse or nonexistent work will receive sparse or nonexistent credit.\n",
        "\n",
        "---"
      ]
    },
    {
      "cell_type": "markdown",
      "metadata": {
        "id": "JkXo27jKrmtO"
      },
      "source": [
        "# $\\color{red}{\\text{Example question #1}}$\n",
        "\n",
        "On this exam we are looking for $\\color{red}{\\text{HOW}}$ you answer questions and not necessarily $\\color{red}{\\text{WHAT}}$ you put for an answer. \n",
        "\n",
        "Tell the grader where to look for your answer and which question the work goes with.\n",
        "\n",
        "Be thorough, but be concise.\n",
        "\n",
        "Use full sentences and proper grammar and correct spelling.\n",
        "\n",
        "Comment your code.\n",
        "\n",
        "Demonstrate $\\color{red}{\\text{BOTH}}$ what you know about the question $\\color{red}{\\text{AND}}$ the coding you used to answer the question"
      ]
    },
    {
      "cell_type": "markdown",
      "metadata": {
        "id": "690W60CkrmtP"
      },
      "source": [
        "# Example Question:\n",
        "\n",
        "What values of $x$ solve the equation: $\\phantom{xx}x^2-5x=-6$?\n",
        "Solve analytically and then create a plot supporting your answer."
      ]
    },
    {
      "cell_type": "markdown",
      "metadata": {
        "id": "g9IIn0R0rmtP"
      },
      "source": [
        "# $\\color{red}{\\text{This correct answer would be worth zero points}}:$\n",
        "\n",
        "$x=2$ and $x=3$"
      ]
    },
    {
      "cell_type": "markdown",
      "metadata": {
        "id": "g4E2d80QrmtP"
      },
      "source": [
        "# $\\color{red}{\\text{This answer would be worth full points}}:$\n",
        "\n",
        "\n",
        "Solution to Example Question:\n",
        "\n",
        "$x^2-5x=-6$ can be factored after $-6$ is added to both sides.\n",
        "\n",
        "$(x-2)(x-3)=0$. The zero product property reveals that $\\boxed{x=2}$ or $\\boxed{x=3}$.\n",
        "\n",
        "This equation has two solutions as its graph crosses the x-axis twice as seen below."
      ]
    },
    {
      "cell_type": "code",
      "execution_count": 235,
      "metadata": {
        "id": "L9sERLEarmtQ",
        "outputId": "ddef9e9a-8bde-4d9a-c601-faf8c026f4ec",
        "colab": {
          "base_uri": "https://localhost:8080/",
          "height": 283
        }
      },
      "outputs": [
        {
          "output_type": "execute_result",
          "data": {
            "text/plain": [
              "[<matplotlib.lines.Line2D at 0x7f9cfbce5050>]"
            ]
          },
          "metadata": {},
          "execution_count": 235
        },
        {
          "output_type": "display_data",
          "data": {
            "text/plain": [
              "<Figure size 432x288 with 1 Axes>"
            ],
            "image/png": "[encoded data removed]"
          },
          "metadata": {
            "needs_background": "light"
          }
        }
      ],
      "source": [
        "# AND HERE IS MY COMMENTED CODE TO GO WITH THE EXAMPLE QUESTION #1:\n",
        "\n",
        "import numpy \n",
        "import matplotlib.pylab as draw\n",
        "%matplotlib inline \n",
        "# matplotlib.pylab is used for plotting. 'inline' ensures the graph opens in Jupyter.\n",
        "\n",
        "x = numpy.linspace(1,4,100)\n",
        "# 'linspace' returns evenly spaced numbers over a specified interval\n",
        "y = x**2-5*x+6\n",
        "z = 0*x\n",
        "draw.plot(x,y)\n",
        "# This is the parabola\n",
        "draw.plot(x,z, ':')\n",
        "# This is the x-axis.\n",
        "draw.plot(2,0, marker=\"o\", markersize=5, markeredgecolor=\"red\", markerfacecolor=\"green\")\n",
        "draw.plot(3,0, marker=\"o\", markersize=5, markeredgecolor=\"red\", markerfacecolor=\"green\")\n",
        "# These last two 'draw' commands show the intersection of the parabola and the x-axis.\n",
        "# The intersections are the sought after solutions. See graph below.\n"
      ]
    },
    {
      "cell_type": "markdown",
      "metadata": {
        "id": "6KEboVuLrmtR"
      },
      "source": [
        "# Begin Exam Here\n",
        "### Name: Kevin Stull\n",
        "***"
      ]
    },
    {
      "cell_type": "markdown",
      "metadata": {
        "id": "kfcFWbprrmtS"
      },
      "source": [
        "# Problem 1\n",
        "***\n",
        "\n",
        "A sample survey of incoming college students (fresh out of high school) has been conducted on campus. Among the massive amounts of data collected we are going to look at just a few items and answer some questions concerning the sample.\n",
        "\n",
        "The data we want to work with is in the file, \"frosh.csv\".\n",
        "\n",
        "***Description of the data set***\n",
        "This data was collected from a number of incoming freshman attending CU. The data was collected on move-in day as interviewers wandered through the crowds of people and spoke with new students that were willing to fill out a questionairre. The questionairre was administered and completed on a Saturday. The four pieces of data found in frosh.csv here are:\n",
        "\n",
        "'$\\color{blue}{\\text{height}}$' - This is the height of the student in inches. This data is intended to be rational numbers measured to the tenths place. When cleaning this data you might choose to consider the documentation for the Pandas .round function https://pandas.pydata.org/docs/reference/api/pandas.DataFrame.round.html\n",
        "\n",
        "'$\\color{blue}{\\text{age}}$' - This is the age, in years, of the student in question; A18 refers to 'Age 18'. Once cleaned, this data should be integers.\n",
        "\n",
        "'$\\color{blue}{\\text{gender}}$' - This is the gender (sex) of the student. This data should be strings or characters of either 'M' or 'F'.\n",
        "\n",
        "'$\\color{blue}{\\text{lunch_money}}$' - This is the amount of money the student spent for dinner on the previous Friday night.  Once cleaned, this data should be rational numbers measured to the hundredths place, thereby representing dollars and cents.\n",
        "\n",
        "'$\\color{blue}{\\text{ID}}$' - This is a 3 or 4 digit number used to identify each student. The datatype should be integer. \n"
      ]
    },
    {
      "cell_type": "markdown",
      "metadata": {
        "id": "aVerh3K5rmtS"
      },
      "source": [
        "### Set up your Jupyter notebook (here) with any required imports or loads, and take glance at the actual data.\n",
        "\n",
        "***(2 points)*** List all your imports below:"
      ]
    },
    {
      "cell_type": "code",
      "execution_count": 236,
      "metadata": {
        "id": "JmlgX39nrmtS"
      },
      "outputs": [],
      "source": [
        "# SOLUTION \n",
        "# List the imports that you use here:\n",
        "import pandas as pd\n",
        "import numpy as np\n",
        "import matplotlib.pyplot as plt\n",
        "from scipy.stats import norm\n",
        "from scipy.special import binom\n"
      ]
    },
    {
      "cell_type": "markdown",
      "metadata": {
        "id": "9bYMT6WArmtS"
      },
      "source": [
        "***(2 points)*** Load the data to analyze below:"
      ]
    },
    {
      "cell_type": "code",
      "execution_count": 237,
      "metadata": {
        "id": "2uHrfgqCrmtS"
      },
      "outputs": [],
      "source": [
        "# SOLUTION\n",
        "# To answer questions about the data set, \n",
        "# load the data into a dataframe 'dfFrosh'.\n",
        "# Load your data here:\n",
        "dfFrosh = pd.read_csv(\"frosh.csv\")"
      ]
    },
    {
      "cell_type": "markdown",
      "metadata": {
        "id": "3PauUmpnrmtT"
      },
      "source": [
        "***(2 points)*** Look at the data and the datatypes below:"
      ]
    },
    {
      "cell_type": "code",
      "execution_count": 238,
      "metadata": {
        "id": "qpdCAeRMrmtT",
        "colab": {
          "base_uri": "https://localhost:8080/"
        },
        "outputId": "aa0fc7dc-fadf-4566-87a3-72861ef868eb"
      },
      "outputs": [
        {
          "output_type": "stream",
          "name": "stdout",
          "text": [
            "    ID     height  age gender lunch_money\n",
            "0  101  69.377867  A19      F      $15.69\n",
            "1  102  73.079783  A18      M       $5.23\n",
            "2  103  66.627820  A19      M      $10.46\n",
            "3  104  68.466419  A17      F      $20.92\n",
            "4  105  70.747216  A18      M      $15.69\n",
            "ID               int64\n",
            "height         float64\n",
            "age             object\n",
            "gender          object\n",
            "lunch_money     object\n",
            "dtype: object\n"
          ]
        }
      ],
      "source": [
        "# SOLUTION\n",
        "# Answering questions about data neccesitates \n",
        "# looking at the data to understand it.\n",
        "# Look at your data and the datatypes here:\n",
        "print(dfFrosh.head())\n",
        "print(dfFrosh.dtypes)"
      ]
    },
    {
      "cell_type": "markdown",
      "metadata": {
        "id": "CVbmCpQOrmtT"
      },
      "source": [
        "## Part A\n",
        "\n",
        "***(2 points)*** How many rows are in the data set?"
      ]
    },
    {
      "cell_type": "code",
      "execution_count": 239,
      "metadata": {
        "id": "YVoKjOiVrmtT",
        "colab": {
          "base_uri": "https://localhost:8080/"
        },
        "outputId": "07ab5b5f-ea22-405c-eba1-eb1ba5845880"
      },
      "outputs": [
        {
          "output_type": "stream",
          "name": "stdout",
          "text": [
            "<class 'pandas.core.frame.DataFrame'>\n",
            "RangeIndex: 1000 entries, 0 to 999\n",
            "Data columns (total 5 columns):\n",
            " #   Column       Non-Null Count  Dtype  \n",
            "---  ------       --------------  -----  \n",
            " 0   ID           1000 non-null   int64  \n",
            " 1   height       1000 non-null   float64\n",
            " 2   age          1000 non-null   object \n",
            " 3   gender       997 non-null    object \n",
            " 4   lunch_money  1000 non-null   object \n",
            "dtypes: float64(1), int64(1), object(3)\n",
            "memory usage: 39.2+ KB\n",
            "None\n",
            "there are 1000 rows.\n"
          ]
        }
      ],
      "source": [
        "# solution to A here:\n",
        "print(dfFrosh.info())\n",
        "# the count is 1000 therefore there are 1000 rows \n",
        "print(\"there are\", len(dfFrosh), \"rows.\")"
      ]
    },
    {
      "cell_type": "markdown",
      "metadata": {
        "id": "Ce1ohkK2rmtT"
      },
      "source": [
        "## Part B\n",
        "\n",
        "***(8 points)*** Clean the data to match the description of the data above, and take a look at the data again to see/show that it is in fact 'clean'."
      ]
    },
    {
      "cell_type": "code",
      "execution_count": 240,
      "metadata": {
        "id": "onPe5_XWrmtT",
        "colab": {
          "base_uri": "https://localhost:8080/"
        },
        "outputId": "6731a615-6e94-4ce1-e488-a948d0dc1bf8"
      },
      "outputs": [
        {
          "output_type": "stream",
          "name": "stdout",
          "text": [
            "       ID  height  age gender lunch_money\n",
            "680   781    69.6   19    NaN      $10.46\n",
            "704   805    70.7   17    NaN       $5.23\n",
            "924  1025    68.5   19    NaN      $26.15\n"
          ]
        },
        {
          "output_type": "stream",
          "name": "stderr",
          "text": [
            "/usr/local/lib/python3.7/dist-packages/ipykernel_launcher.py:17: FutureWarning: The default value of regex will change from True to False in a future version. In addition, single character regular expressions will *not* be treated as literal strings when regex=True.\n"
          ]
        }
      ],
      "source": [
        "# SOLUTION: Cleaning the data\n",
        "\n",
        "# Takes care of the height column\n",
        "dfFrosh[\"height\"] = round(dfFrosh[\"height\"], 1)  # rounds to 1 decimal places\n",
        "\n",
        "# Takes care of the age column\n",
        "dfFrosh[\"age\"] = dfFrosh[\"age\"].str.replace('A','')  # replace the A with ''\n",
        "dfFrosh[\"age\"] = dfFrosh[\"age\"].astype(int) # cast to integers \n",
        "\n",
        "# Takes care of the gender column \n",
        "null_rows = dfFrosh[\"gender\"].isnull() # finds the rows will null gender values \n",
        "print(dfFrosh[null_rows]) # show the null value locations \n",
        "\n",
        "# Takes care of the lunch_money column \n",
        "\n",
        "# replace the A with ''\n",
        "dfFrosh[\"lunch_money\"] = dfFrosh[\"lunch_money\"].str.replace('$','')  \n",
        "\n",
        "# cast to integers \n",
        "dfFrosh[\"lunch_money\"] = dfFrosh[\"lunch_money\"].astype(float) \n",
        "\n",
        "# rounds to 2 decimal places\n",
        "dfFrosh[\"lunch_money\"] = round(dfFrosh[\"lunch_money\"], 2) \n",
        "\n"
      ]
    },
    {
      "cell_type": "code",
      "execution_count": 241,
      "metadata": {
        "id": "NfTLl2phrmtU",
        "colab": {
          "base_uri": "https://localhost:8080/"
        },
        "outputId": "5bff5437-a69f-4984-c880-5703bc0ec2fa"
      },
      "outputs": [
        {
          "output_type": "stream",
          "name": "stdout",
          "text": [
            "    ID  height  age gender  lunch_money\n",
            "0  101    69.4   19      F        15.69\n",
            "1  102    73.1   18      M         5.23\n",
            "2  103    66.6   19      M        10.46\n",
            "3  104    68.5   17      F        20.92\n",
            "4  105    70.7   18      M        15.69\n",
            "ID               int64\n",
            "height         float64\n",
            "age              int64\n",
            "gender          object\n",
            "lunch_money    float64\n",
            "dtype: object\n"
          ]
        }
      ],
      "source": [
        "# SOLUTION\n",
        "# Checking to see if the data looks 'clean'\n",
        "# Look again at the data and the datatypes.\n",
        "print(dfFrosh.head())\n",
        "print(dfFrosh.dtypes)"
      ]
    },
    {
      "cell_type": "markdown",
      "metadata": {
        "id": "PobuvVknrmtU"
      },
      "source": [
        "## Part C\n",
        "\n",
        "***(3 points)*** Delete any rows with missing data (NaN). How many rows were deleted?"
      ]
    },
    {
      "cell_type": "code",
      "execution_count": 242,
      "metadata": {
        "id": "xlgRa298rmtU",
        "colab": {
          "base_uri": "https://localhost:8080/"
        },
        "outputId": "cbf434f9-aece-48c3-8322-fd711560d459"
      },
      "outputs": [
        {
          "output_type": "stream",
          "name": "stdout",
          "text": [
            "Empty DataFrame\n",
            "Columns: [ID, height, age, gender, lunch_money]\n",
            "Index: []\n",
            "Empty DataFrame\n",
            "Columns: [ID, height, age, gender, lunch_money]\n",
            "Index: []\n",
            "Empty DataFrame\n",
            "Columns: [ID, height, age, gender, lunch_money]\n",
            "Index: []\n",
            "       ID  height  age gender  lunch_money\n",
            "680   781    69.6   19    NaN        10.46\n",
            "704   805    70.7   17    NaN         5.23\n",
            "924  1025    68.5   19    NaN        26.15\n",
            "Empty DataFrame\n",
            "Columns: [ID, height, age, gender, lunch_money]\n",
            "Index: []\n"
          ]
        }
      ],
      "source": [
        "# look for null entries \n",
        "col_names = [\"ID\", \"age\", \"height\", \"gender\", \"lunch_money\"]\n",
        "for name in col_names:\n",
        "  null_rows = dfFrosh[name].isnull() # finds the rows with nullvalues \n",
        "  print(dfFrosh[null_rows])\n",
        "\n",
        "# we drop rows 680, 704, and 924\n",
        "dfFrosh.drop(index = [680, 704, 924], inplace = True) \n",
        "# deletes the rows and replaces the dataframe\n"
      ]
    },
    {
      "cell_type": "markdown",
      "metadata": {
        "id": "AOzwsq5NrmtU"
      },
      "source": [
        "## Part D\n",
        "\n",
        "***(3 points)*** How many 18-year olds are now in this data set?"
      ]
    },
    {
      "cell_type": "code",
      "execution_count": 243,
      "metadata": {
        "id": "cAj6i6nVrmtW",
        "colab": {
          "base_uri": "https://localhost:8080/"
        },
        "outputId": "ca7edf9d-f1c2-40b4-8dcf-b1b9fc858bec"
      },
      "outputs": [
        {
          "output_type": "stream",
          "name": "stdout",
          "text": [
            "Number of 18 year olds: 474\n"
          ]
        }
      ],
      "source": [
        "# Solution to Part D here:\n",
        "# we just find the length of the dataframe only containing age == 18\n",
        "print(\"Number of 18 year olds:\", len(dfFrosh[dfFrosh[\"age\"] == 18]))"
      ]
    },
    {
      "cell_type": "markdown",
      "metadata": {
        "id": "HY322N1OrmtW"
      },
      "source": [
        "## Part E\n",
        "\n",
        "***(3 points)*** What is the mean height of these 18-year olds?"
      ]
    },
    {
      "cell_type": "code",
      "execution_count": 244,
      "metadata": {
        "id": "AaLI-cALrmtX",
        "colab": {
          "base_uri": "https://localhost:8080/"
        },
        "outputId": "1262e142-d6b6-4640-efcd-52c760301995"
      },
      "outputs": [
        {
          "output_type": "stream",
          "name": "stdout",
          "text": [
            "the mean height is: 68.94 inches.\n"
          ]
        }
      ],
      "source": [
        "# Solution to Part E here:\n",
        "dfNew = dfFrosh[dfFrosh[\"age\"] == 18] # save as a separate frame\n",
        "# we simply apply the .mean() method and round off the result \n",
        "print(\"the mean height is:\", round(dfNew[\"height\"].mean(), 2), \"inches.\")\n"
      ]
    },
    {
      "cell_type": "markdown",
      "metadata": {
        "id": "fWphKzP9rmtX"
      },
      "source": [
        "## Part F\n",
        "\n",
        "***(4 points)*** On average, who spent more for Friday dinner, 18-year old males or 19-year old females?"
      ]
    },
    {
      "cell_type": "code",
      "execution_count": 245,
      "metadata": {
        "id": "gLVxYv-ermtX",
        "colab": {
          "base_uri": "https://localhost:8080/"
        },
        "outputId": "f5990210-3e39-48e7-b049-62402349b195"
      },
      "outputs": [
        {
          "output_type": "stream",
          "name": "stdout",
          "text": [
            "18 year old males spent more\n"
          ]
        }
      ],
      "source": [
        "# Solution to Part F here:\n",
        "\n",
        "# we progresively slice our frame for readability \n",
        "df18 = dfFrosh[dfFrosh[\"age\"] == 18] # sort by age \n",
        "df18Male = df18[df18[\"gender\"] == 'M'] # sort by gender \n",
        "mean1 = df18Male[\"lunch_money\"].mean() # find the mean \n",
        "\n",
        "# same as above \n",
        "df19 = dfFrosh[dfFrosh[\"age\"] == 19] \n",
        "df19Female = df19[df19[\"gender\"] == 'F']\n",
        "mean2 = df19Female[\"lunch_money\"].mean()\n",
        "\n",
        "# print the larger of the two \n",
        "if mean1 > mean2:\n",
        "  print(\"18 year old males spent more\")\n",
        "else:\n",
        "  print(\"19 year old females spent more\")\n"
      ]
    },
    {
      "cell_type": "markdown",
      "metadata": {
        "id": "BIYKVtVnrmtX"
      },
      "source": [
        "## Part G\n",
        "\n",
        "***(5 points)*** \n",
        "\n",
        "Create a column called 'height_f' that gives the respondents' height in feet. \n",
        "\n",
        "Then give a 5-number summary for 'height_f'.  \n",
        "\n",
        "Do **NOT use the .describe() method** when creating your 5-number summary.  You **can** use any other built-in methods. \n"
      ]
    },
    {
      "cell_type": "code",
      "execution_count": 246,
      "metadata": {
        "id": "mmI-VbS1rmtX",
        "colab": {
          "base_uri": "https://localhost:8080/"
        },
        "outputId": "6c0d0f74-82d4-4240-ecc0-267859abdc80"
      },
      "outputs": [
        {
          "output_type": "stream",
          "name": "stdout",
          "text": [
            "min: 4.9750000000000005\n",
            "1st quartile: 5.591666666666666\n",
            "median: 5.75\n",
            "3rd quartile: 5.925\n",
            "max: 6.591666666666666\n"
          ]
        }
      ],
      "source": [
        "# Solution to Part G here:\n",
        "\n",
        "# First we generate and add the new column to our dataframe\n",
        "dfFrosh['height_f'] = dfFrosh.apply(lambda row: row.height / 12, axis=1)\n",
        "\n",
        "# Now we generate our 5 number summary \n",
        "\n",
        "# min: \n",
        "min = dfFrosh['height_f'].min()\n",
        "\n",
        "# 1st q:\n",
        "q1 =dfFrosh['height_f'].quantile(.25)\n",
        "\n",
        "# med: \n",
        "med = dfFrosh['height_f'].median()\n",
        "\n",
        "# 3rd q: \n",
        "q3 = dfFrosh['height_f'].quantile(.75)\n",
        "\n",
        "# max: \n",
        "max = dfFrosh['height_f'].max()\n",
        "\n",
        "# printing out our solutions \n",
        "print(\"min:\", min)\n",
        "print(\"1st quartile:\", q1)\n",
        "print(\"median:\", med)\n",
        "print(\"3rd quartile:\", q3)\n",
        "print(\"max:\", max)\n"
      ]
    },
    {
      "cell_type": "markdown",
      "metadata": {
        "id": "RIVf3C6QrmtY"
      },
      "source": [
        "## Part H\n",
        "\n",
        "***(8 points)*** Create a box-and-whisker plot of 'height_f' to provide a visual of the 5-number summary.  Label your axes on the plot."
      ]
    },
    {
      "cell_type": "code",
      "execution_count": 247,
      "metadata": {
        "id": "NA0OFiqarmtY",
        "colab": {
          "base_uri": "https://localhost:8080/",
          "height": 413
        },
        "outputId": "eee0b038-e210-4217-9562-899df165305d"
      },
      "outputs": [
        {
          "output_type": "execute_result",
          "data": {
            "text/plain": [
              "Text(0, 0.5, 'Height (Feet)')"
            ]
          },
          "metadata": {},
          "execution_count": 247
        },
        {
          "output_type": "display_data",
          "data": {
            "text/plain": [
              "<Figure size 432x432 with 1 Axes>"
            ],
            "image/png": "[encoded data removed]"
          },
          "metadata": {
            "needs_background": "light"
          }
        }
      ],
      "source": [
        "# Solution to Part H\n",
        "# Initialize figure \n",
        "fig, ax = plt.subplots(figsize=(6,6))\n",
        "\n",
        "# Plot histogram, but this time return dictionary \n",
        "# of style parameters for modification after the fact \n",
        "bp = dfFrosh.boxplot(column=[\"height_f\"]);\n",
        "\n",
        "# Set title and vertical axis label\n",
        "ax.set_title('Distribution of Height', fontsize=18)\n",
        "ax.set_ylabel(\"Height (Feet)\", fontsize=16)"
      ]
    },
    {
      "cell_type": "markdown",
      "metadata": {
        "id": "yxlDDsg7rmtY"
      },
      "source": [
        "## Part I \n",
        "\n",
        "***(8 points)*** \n",
        "\n",
        "i).  Create a **frequency** histogram of 'lunch_money'.  Label your axes.   \n",
        "ii).  Then ***give a shape descriptive name for this type of distribution.***\n"
      ]
    },
    {
      "cell_type": "code",
      "execution_count": 248,
      "metadata": {
        "id": "-JRCVqOPrmtY",
        "colab": {
          "base_uri": "https://localhost:8080/",
          "height": 295
        },
        "outputId": "f7bc5185-4d0a-40bf-ba14-87fbe1ba769c"
      },
      "outputs": [
        {
          "output_type": "display_data",
          "data": {
            "text/plain": [
              "<Figure size 432x288 with 1 Axes>"
            ],
            "image/png": "[encoded data removed]"
          },
          "metadata": {
            "needs_background": "light"
          }
        }
      ],
      "source": [
        "# Solution to Part I\n",
        "plt.hist(dfFrosh['lunch_money'])\n",
        "plt.title('Amount Spent on Lunch Money by Student ')\n",
        "plt.xlabel('Amount Spent');\n",
        "plt.ylabel('Frequency')\n",
        "plt.show()"
      ]
    },
    {
      "cell_type": "markdown",
      "source": [
        "This is a strongly right skewed distribution. This is expected because, in general people will bring lunch from home to save money rather than spend it on school lunches. "
      ],
      "metadata": {
        "id": "lGO_82i-MfIZ"
      }
    },
    {
      "cell_type": "markdown",
      "metadata": {
        "id": "8W5XTl8DrmtY"
      },
      "source": [
        "## Part J\n",
        "After viewing the 'lunch_money' distribution we might conclude that around 80% of students eat a cheap (\"C\") meal, 18% eat a middle priced (\"M\") meal, and 2% eat an expensive (\"E\") meal.\n",
        "\n",
        "Imagine choosing a student from this list at random to see if they ate a middle priced, \"M\", meal. You should expect this to be true about 18% of the time.\n",
        "\n",
        "Suppose you choose a student from the list, record whether or not they at a middle priced, \"M\", meal or not, and then you randomly chose again, and again, and again, etc. \n",
        "\n",
        "\n",
        "***(10 points)*** \n",
        "\n",
        "i).  Create a simulation that will randomly choose \"C\", \"M\", and \"E\" according to the probabilites \"C\" = 80%, \"M\"=18%, and \"E\"=2%.  \n",
        "(Note that this simulation will NOT randomly choose from the actual data stored in frosh.csv).\n",
        "\n",
        "ii).  Make a plot of the $\\color{red}{\\text{running estimate}}$ of the probability of a student eating a 'middle priced', \"M\", meal as the number of choices increases:\n",
        "\n",
        "$\\frac{m_1}{1}$, $\\frac{m_2}{2}$, $\\frac{m_3}{3}$, ... , $\\frac{m_{500}}{500}$, where $m_i$ is the number of M's discovered in your random choices out of $i$ trials.\n",
        "\n",
        "Run the simulation for 500 choices, and graph the 500 ratios.  \n",
        "\n",
        "iii).  Then comment on if/when the graph flattens out to the expected 18% within these 500 ratios."
      ]
    },
    {
      "cell_type": "code",
      "execution_count": 249,
      "metadata": {
        "id": "OIRHrniurmtY",
        "colab": {
          "base_uri": "https://localhost:8080/",
          "height": 295
        },
        "outputId": "931e713a-8e2f-4d47-eab6-1cd741f89cef"
      },
      "outputs": [
        {
          "output_type": "display_data",
          "data": {
            "text/plain": [
              "<Figure size 432x288 with 1 Axes>"
            ],
            "image/png": "[encoded data removed]"
          },
          "metadata": {
            "needs_background": "light"
          }
        }
      ],
      "source": [
        "#Solution to J\n",
        "# Uncomment the random.seed function below, \n",
        "# but do not change the statement or its input value.\n",
        "# Put your code for Part J after the random.seed function\n",
        "np.random.seed(54321)\n",
        "\n",
        "# the possible outcomes \n",
        "choices = ['C', 'M', 'E'] \n",
        "\n",
        "# the associated probabilities and the sample size \n",
        "results = np.random.choice(choices, p=[0.8, 0.18, 0.02], size=500) \n",
        "\n",
        "# gets the total estimated prob. \n",
        "prob = np.sum(results == 'M') / len(results) # prob. == 0.2\n",
        "\n",
        "# initializing our plotting variable \n",
        "dependent_var = []\n",
        "\n",
        "\n",
        "# we need to calculate the running prob. at each experiment then \n",
        "# save the calculated result so that we can plot it \n",
        "for i in range (0, 500):\n",
        "  prob = np.sum(results[0:i+1] == 'M')/ len(results[0:i+1])\n",
        "  dependent_var.append(prob)\n",
        "\n",
        "plt.plot(dependent_var)\n",
        "plt.title(\"Running Probability Over 500 Trials\")\n",
        "plt.xlabel('Number of Trials')\n",
        "plt.ylabel('Running Probability Estimate')\n",
        "plt.ylim([.1, .4])\n",
        "plt.show()\n"
      ]
    },
    {
      "cell_type": "markdown",
      "source": [
        "### Comments on Above plot 1)j)iii)\n",
        "It appears to be levelling off to 20% which is close to 18 percent but slightly above. With more sampling (around 50,000), it does eventually converge to 18% as expected. "
      ],
      "metadata": {
        "id": "qbJC-3P7A6Vh"
      }
    },
    {
      "cell_type": "markdown",
      "metadata": {
        "id": "fsCE_MmSrmtZ"
      },
      "source": [
        "# Part K\n",
        "\n",
        "***(6 points)*** Create a **frequency** histogram of 'height'.   Label your axes."
      ]
    },
    {
      "cell_type": "code",
      "execution_count": 250,
      "metadata": {
        "id": "xxGGfxlsrmtZ",
        "colab": {
          "base_uri": "https://localhost:8080/",
          "height": 295
        },
        "outputId": "af7b49ff-909c-413b-dd6f-66815431b818"
      },
      "outputs": [
        {
          "output_type": "display_data",
          "data": {
            "text/plain": [
              "<Figure size 432x288 with 1 Axes>"
            ],
            "image/png": "[encoded data removed]"
          },
          "metadata": {
            "needs_background": "light"
          }
        }
      ],
      "source": [
        "# Solution to Part K here:\n",
        "plt.hist(dfFrosh['height'])\n",
        "plt.title('Student Height')\n",
        "plt.xlabel('Height (Inches)');\n",
        "plt.ylabel('Frequency')\n",
        "plt.show()"
      ]
    },
    {
      "cell_type": "markdown",
      "metadata": {
        "id": "Z9ZfZllVrmtZ"
      },
      "source": [
        "## Part L\n",
        "\n",
        "The height data roughly follows a normal distribution with a mean, $\\mu$, and standard deviation, $\\sigma$, that you can calculate from the data. \n",
        "\n",
        "***(8 points)***\n",
        "\n",
        "i).  Write some code that will create a $N(0,1)$ distribution from this same data.\n",
        "i.e., take the $N(\\mu, \\sigma^2)$ data currently stored in 'height' and transform it into data from a $N(0,1)$ distribution and store it in another column called 'height_N01'.\n",
        "\n",
        "ii).  Create a **density** histogram of 'height_N01'.  Label your axes.\n"
      ]
    },
    {
      "cell_type": "markdown",
      "source": [
        "# General Process: \n",
        "1) find the mean and std of the dataset \n",
        "\n",
        "2) shift and scale the dataset accoding to \n",
        "\n",
        "- Formula: height_N01 = ('height' - mean) / std \n",
        "\n",
        "3) Plot the new distribution \n"
      ],
      "metadata": {
        "id": "d_Cv4GXCfc9R"
      }
    },
    {
      "cell_type": "code",
      "execution_count": 251,
      "metadata": {
        "id": "JZ7nmJc3rmtZ",
        "colab": {
          "base_uri": "https://localhost:8080/",
          "height": 332
        },
        "outputId": "330e7ca1-ba59-4e59-d069-6dbef26e83b2"
      },
      "outputs": [
        {
          "output_type": "display_data",
          "data": {
            "text/plain": [
              "<Figure size 432x288 with 1 Axes>"
            ],
            "image/png": "[encoded data removed]"
          },
          "metadata": {
            "needs_background": "light"
          }
        },
        {
          "output_type": "stream",
          "name": "stdout",
          "text": [
            "mean: 0.0\n",
            "std: 1.0\n"
          ]
        }
      ],
      "source": [
        "# Solution to Part L here:\n",
        "\n",
        "# 1\n",
        "mean = dfFrosh['height'].mean()\n",
        "std = dfFrosh['height'].std()\n",
        "\n",
        "# 2\n",
        "dfFrosh['height_N01'] = dfFrosh.apply(lambda row: (row.height - mean) / std, axis=1)\n",
        "\n",
        "# 3\n",
        "plt.hist(dfFrosh['height_N01'], density = True)\n",
        "plt.title('Standard Normal Distribution Student Height')\n",
        "plt.xlabel('Height (Inches)');\n",
        "plt.ylabel('Frequency (Density)')\n",
        "plt.show()\n",
        "\n",
        "# checking out work \n",
        "mean1 = dfFrosh['height_N01'].mean()\n",
        "std1 = dfFrosh['height_N01'].std()\n",
        "\n",
        "# Confirms that we have a standard normal distribution\n",
        "print(\"mean:\", round(mean1, 4))\n",
        "print(\"std:\", round(std1, 4))"
      ]
    },
    {
      "cell_type": "markdown",
      "metadata": {
        "id": "eIjarWQqrmta"
      },
      "source": [
        "## Part M\n",
        "\n",
        "***(8 points)*** \n",
        "\n",
        "i).  What percentage of students in the data are between 5 foot 6 inches and 6 feet tall, i.e. between 5'6''and 6'?\n",
        "\n",
        "\n",
        "ii).  Assuming height is normally distributed with mean and standard deviation calculated from the data, calculate the probability of being between 5 foot 6 inches and 6 feet tall using a normal distribution.   Then comment on how this answer compares to your answer in part (i)."
      ]
    },
    {
      "cell_type": "markdown",
      "source": [
        "# Explanation for part M\n",
        "we are going to assume that being 'between 5'6'' and 6' is meant INCLUSIVELY. \n",
        "There are 997 valid entries in our current dataset (because we eliminated 3). \n",
        "We simply count how many are students satisfy: 5'6'' >= student >= 6' then \n",
        "divide that number by 997. "
      ],
      "metadata": {
        "id": "xzr26g0qfWkZ"
      }
    },
    {
      "cell_type": "code",
      "execution_count": 252,
      "metadata": {
        "id": "zke31IgWrmta",
        "colab": {
          "base_uri": "https://localhost:8080/"
        },
        "outputId": "6aa43ca3-3b0b-487e-9d9a-5f567adc9416"
      },
      "outputs": [
        {
          "output_type": "stream",
          "name": "stdout",
          "text": [
            "The percentage of students (inclusive) between 5'6'' and 6' is: 68.2%.\n",
            "By normal distribution: 66.2%.\n"
          ]
        }
      ],
      "source": [
        "# Solution for Part M here:\n",
        "\n",
        "\n",
        "# i\n",
        "bet_56_6 = dfFrosh[(dfFrosh[\"height\"] >= 66.0) & (dfFrosh[\"height\"] <= 72.0)]\n",
        "percent_students = len(bet_56_6) / 997.0\n",
        "print(\"The percentage of students (inclusive) between 5'6'' and 6' is:\", \n",
        "      str(100 * round(percent_students, 3)) + '%.')\n",
        "\n",
        "# ii \n",
        "# We use the norm function we imported at the top of the notebook\n",
        "probH = norm.cdf(72.0, mean ,std) - norm.cdf(66.0, mean, std)\n",
        "print(\"By normal distribution:\", str(100 * round(probH, 3)) + '%.')\n",
        "\n"
      ]
    },
    {
      "cell_type": "markdown",
      "source": [
        "# Comments for ii regarding answer in i\n",
        "The estimate is very close to the actual (calculated) value. Showing that our assumption that the data was roughly a normal distribution was in fact a valid assumption to make. "
      ],
      "metadata": {
        "id": "OmtSzJ1PZHDE"
      }
    },
    {
      "cell_type": "markdown",
      "metadata": {
        "id": "DN2EV3gyrmta"
      },
      "source": [
        "# Problem 2\n",
        "***\n",
        "\n",
        "You are at a picnic when you come across a cooler topped with ice so you can't see what drink you might randomly grab from the inside. The cooler happens to be filled with 12 clam juices and 12 cokes. \n",
        "\n",
        "A | B\n",
        "- | - \n",
        "![alt](clam.png) |![alt](coke.png)\n",
        "\n",
        "You decide you would like a delicious, refreshing drink on this hot picnic day. \n",
        "\n",
        "In fact, you decide you would like two drinks. \n",
        "\n",
        "So, you reach into the cooler and randomly grab the first of two beverages.\n",
        "\n",
        "The bottles feel remarkably similar, so there is no way to tell the difference until you have the drink in hand.\n",
        "\n",
        "- If you grab a Coke first, then you will drop that disgusting drink back into the icy water of the cooler and add 2 more warm clam juices to the cooler in order to increase the ratio for the next grab. \n",
        "- If, however, your first grab is a clam juice, then you will keep it and reach in for a second beverage.\n"
      ]
    },
    {
      "cell_type": "markdown",
      "metadata": {
        "id": "_JrBB-uormta"
      },
      "source": [
        "## Part A\n",
        "\n",
        "\n",
        "\n",
        "***(10 points)*** Write a simple simulation with 10,000 trials that estimates the probability that your ***first and second grabs are both Cokes***."
      ]
    },
    {
      "cell_type": "code",
      "execution_count": 253,
      "metadata": {
        "id": "iTKm4yEDrmta",
        "colab": {
          "base_uri": "https://localhost:8080/"
        },
        "outputId": "fffc3c7d-b164-4b61-f058-6d79e4885075"
      },
      "outputs": [
        {
          "output_type": "stream",
          "name": "stdout",
          "text": [
            "The probability of grabbing two cokes is: 23.1%\n"
          ]
        }
      ],
      "source": [
        "# Write your code for Part A here:\n",
        "epochs = 10000 # number of trials \n",
        "successes = 0 # number of times we grabbed two cokes \n",
        "\n",
        "for i in range (0, epochs):\n",
        "\n",
        "  # our cooler of beverages \n",
        "  cooler = ['Cl', 'Cl', 'Cl', 'Cl', 'Cl', 'Cl', \n",
        "            'Cl', 'Cl', 'Cl', 'Cl', 'Cl', 'Cl',\n",
        "            'Co', 'Co', 'Co', 'Co', 'Co', 'Co', \n",
        "            'Co', 'Co', 'Co', 'Co', 'Co', 'Co']\n",
        "\n",
        "  first_grab = ''\n",
        "  second_grab = ''\n",
        "  \n",
        "  # we grab our first random drink \n",
        "  drink_num = np.random.randint(0, len(cooler))\n",
        "\n",
        "  # we take differing actions based on the type of drink we grabbed \n",
        "  if cooler[drink_num] == 'Cl': # if we grabbed a clam juice, nice! \n",
        "    first_grab = 'Cl' # our first drink is a clam juice \n",
        "    cooler.pop(0) # we remove a Cl from the cooler \n",
        "\n",
        "\n",
        "  else: # we must have gotten bad luck (coke).\n",
        "    first_grab = 'Co' \n",
        "    cooler.append('Cl') # we add two Clam juices to the cooler \n",
        "    cooler.append('Cl')\n",
        "\n",
        "  # we grab another drink then save the result \n",
        "  drink_num = np.random.randint(0, len(cooler))\n",
        "  if cooler[drink_num] == 'Cl': \n",
        "    second_grab = 'Cl' \n",
        "\n",
        "  else: \n",
        "    second_grab = 'Co' \n",
        "\n",
        "  # we check to see if we did indeed grab two cokes \n",
        "  if first_grab == second_grab == 'Co':\n",
        "    successes += 1\n",
        "\n",
        "# now we calculate the probability according to our simlation \n",
        "print(\"The probability of grabbing two cokes is:\",\n",
        "      str(100 * round((successes / epochs), 3)) + '%')\n"
      ]
    },
    {
      "cell_type": "markdown",
      "metadata": {
        "id": "rpeto7oVrmta"
      },
      "source": [
        "### Part B\n",
        "Your friend Leroy Jenkins is at this same picnic. Leroy tends to run off from the group yelling his name every now and again. The issue is that Leroy can't hold his clam juice. Approximately 75% of the time when Leroy leaves he is actually going to get another clam juice, otherwise he is just off to use the restroom.\n",
        "\n",
        "You make a bet with your friends that out of the next 10 times that Leroy runs off screaming, he will be going to get another clam juice 7 or fewer of those ten times.\n",
        "\n",
        "Let $X$ be the random variable that is the number of times Leroy went to get a clam juice when he leaves in his next 10 excursions. So, $X$ can take on the values 0 thru 10. Assume that each trip away from the group is independent from all other trips and the probability of grabbing another clam juice is constant at 75%.\n",
        "\n",
        "***(8 points)*** \n",
        "\n",
        "i).  Write a function  that returns the **Cumulative Distribution Function (CDF)** of $X$ as a Numpy array.\n",
        "\n",
        "ii).  Use the function from part(i) to print out the **Cumulative Distribution Function (CDF)** of $X$ as a table (i.e. input values for $X$ given in one column and decimal outputs of the CDF given in the other column).   \n",
        "\n",
        "iii). What is the probability that you win the bet?  Explain how your answer relates to \n",
        "parts(i and/or ii).  "
      ]
    },
    {
      "cell_type": "markdown",
      "source": [
        "# Solution to Part B (Explanation)\n",
        "There are 10 opportunities for him to grab a clam juice (or use the restroom). We consider him grabbing a clam juice to be a success and apply the binomial distribution function in numpy to calculate our odds of success. And he can grab as many as 10 or as few as 0. So there are 11 possible outcomes. \n",
        "\n",
        "Since there is either a success for a failure, we  use the binomial distribution with a 75% chance of success over n = 9 (10 experiments). Binom calculates the values of n choose k for us at  each valid k value. We have hard coded in the prob. (p) and number of  experiments (n). We then cast the output as an array, then cast that array to a numpy array and save it in npArr."
      ],
      "metadata": {
        "id": "n-wyFlCFfB03"
      }
    },
    {
      "cell_type": "code",
      "execution_count": 254,
      "metadata": {
        "id": "3qyMz3uXrmta",
        "colab": {
          "base_uri": "https://localhost:8080/"
        },
        "outputId": "c9868acc-708e-465f-d41c-16cc4f7d6962"
      },
      "outputs": [
        {
          "output_type": "stream",
          "name": "stdout",
          "text": [
            "0 : 1e-06\n",
            "1 : 2.9e-05\n",
            "2 : 0.000386\n",
            "3 : 0.00309\n",
            "4 : 0.016222\n",
            "5 : 0.058399\n",
            "6 : 0.145998\n",
            "7 : 0.250282\n",
            "8 : 0.281568\n",
            "9 : 0.187712\n",
            "10 : 0.056314\n",
            "The probability of winning our bet is: 22.4%\n",
            "1.0\n"
          ]
        }
      ],
      "source": [
        "# Solution to Part B \n",
        "\n",
        "# This is a specific version of the generalized function for calculating \n",
        "# pmf's found in NB07.\n",
        "npArr = np.array([binom(10, k) * (0.75 ** k) * ((0.25)**(10 - k)) \n",
        "for k in range(11)])\n",
        "# binom gives us our choose: # number of ways to get the same outcome \n",
        "# we use in range 11 because we want to test all 11 cases \n",
        "# .75 is our prob of success \n",
        "# .25 is our prob of failure\n",
        "# we raise each to the power of (# of respective successes / failures)   \n",
        "\n",
        "# We iterate through the array to display the pmf at differeing values of X \n",
        "counter = 0\n",
        "for element in npArr:\n",
        "    print(counter,':',round(element, 6))\n",
        "    counter+=1\n",
        "\n",
        "# The probability that we win our bet (leroy returns with clam juice 7 or fewer \n",
        "# times) is simply the sum of our numpy array for the first 7 entries. \n",
        "print(\"The probability of winning our bet is:\",\n",
        "      str(round(100*sum(npArr[0:7]), 1)) +'%')\n",
        "\n",
        "\n",
        "# checking our function\n",
        "print(sum(npArr))"
      ]
    },
    {
      "cell_type": "markdown",
      "source": [
        "# Answer to 2) B) ii)\n",
        "### Probability is about 22.4%.\n",
        "This make intuitive sense because of the 11 possible outcomes, the four unfavorable outcomes constitute a significant portion of the most likely outcomes. Thus we are more likely than not to lose our bet by a pretty significant amount, even though we might initially expect it to be pretty close to 50% odds (or slightly below). "
      ],
      "metadata": {
        "id": "_iKWFA1VCDQj"
      }
    },
    {
      "cell_type": "code",
      "source": [],
      "metadata": {
        "id": "3vBK7pnJCP8j"
      },
      "execution_count": 254,
      "outputs": []
    }
  ],
  "metadata": {
    "kernelspec": {
      "display_name": "Python 3 (ipykernel)",
      "language": "python",
      "name": "python3"
    },
    "language_info": {
      "codemirror_mode": {
        "name": "ipython",
        "version": 3
      },
      "file_extension": ".py",
      "mimetype": "text/x-python",
      "name": "python",
      "nbconvert_exporter": "python",
      "pygments_lexer": "ipython3",
      "version": "3.9.12"
    },
    "colab": {
      "provenance": [],
      "collapsed_sections": [],
      "include_colab_link": true
    }
  },
  "nbformat": 4,
  "nbformat_minor": 0
}